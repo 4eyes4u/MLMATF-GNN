{
 "cells": [
  {
   "cell_type": "markdown",
   "metadata": {},
   "source": [
    "# Skup podataka i vizualizacija"
   ]
  },
  {
   "cell_type": "markdown",
   "metadata": {},
   "source": [
    "## Cora\n",
    "\n",
    "Skup podataka sa kojim ćemo raditi je jedan od najpopularnijih grafovskih skupova podataka i naziva se **Cora** - to je poznati skup koji se sastoji od 2708 naučnih radova/publikacija vezanih za mašinsko učenje koji su klasifikovani u jednu od 7 kategorija. To su:\n",
    "- Reinforcement Learning\n",
    "- Neural Networks\n",
    "- Case Based\n",
    "- Genetic Algorithms\n",
    "- Probabilistic Methods\n",
    "- Rule Learning\n",
    "- Theory"
   ]
  },
  {
   "cell_type": "markdown",
   "metadata": {},
   "source": [
    "Svaka <b>publikacija</b> u skupu podataka je opisana vektorima reči sa vrednošću 0/1 koji ukazuje na odsustvo/prisustvo odgovarajuće <b>reči</b> iz rečnika. Rečnik se sastoji od 1433 jedinstvenih reči. Između publikacija, nalazi se mreža koja spaja određene radove i sastoji se od 5429 <b>linkova</b>."
   ]
  },
  {
   "cell_type": "markdown",
   "metadata": {},
   "source": [
    "U ovom skupu podataka <b>čvorovi</b> odgovaraju dokumentima, a ivice neusmerenim citatima. Karakteristike čvorova odgovaraju elementima grupe reči iz dokumenata."
   ]
  },
  {
   "cell_type": "markdown",
   "metadata": {},
   "source": [
    "Na sledećoj slici predstavljamo vizuelno izgled ovog skupa podataka gde veličina čvora zavisi od broja ulaznih/izlaznih ivica. Debljina ivice predstavlja koliko je \"popularna\" tj. povezana ta ivica. U skupu podataka imamo 7 različitih oblasti naučnih radova koji su predstavljeni sa 7 različitih boja na grafiku."
   ]
  },
  {
   "cell_type": "markdown",
   "metadata": {},
   "source": [
    "## Vizualizacija\n",
    "\n",
    "Za potrebe boljeg razumevanja skupa podataka, najpre ćemo učitati podatke i vizualizovati ih."
   ]
  },
  {
   "cell_type": "code",
   "execution_count": 1,
   "metadata": {},
   "outputs": [
    {
     "ename": "ModuleNotFoundError",
     "evalue": "No module named 'utils'",
     "output_type": "error",
     "traceback": [
      "\u001b[1;31m---------------------------------------------------------------------------\u001b[0m",
      "\u001b[1;31mModuleNotFoundError\u001b[0m                       Traceback (most recent call last)",
      "Input \u001b[1;32mIn [1]\u001b[0m, in \u001b[0;36m<cell line: 3>\u001b[1;34m()\u001b[0m\n\u001b[0;32m      1\u001b[0m \u001b[38;5;28;01mimport\u001b[39;00m \u001b[38;5;21;01mpickle\u001b[39;00m\n\u001b[0;32m      2\u001b[0m \u001b[38;5;28;01mimport\u001b[39;00m \u001b[38;5;21;01mos\u001b[39;00m\n\u001b[1;32m----> 3\u001b[0m \u001b[38;5;28;01mimport\u001b[39;00m \u001b[38;5;21;01mutils\u001b[39;00m\n\u001b[0;32m      5\u001b[0m \u001b[38;5;66;03m# Visualization related imports\u001b[39;00m\n\u001b[0;32m      6\u001b[0m \u001b[38;5;28;01mimport\u001b[39;00m \u001b[38;5;21;01mmatplotlib\u001b[39;00m\u001b[38;5;21;01m.\u001b[39;00m\u001b[38;5;21;01mpyplot\u001b[39;00m \u001b[38;5;28;01mas\u001b[39;00m \u001b[38;5;21;01mplt\u001b[39;00m\n",
      "\u001b[1;31mModuleNotFoundError\u001b[0m: No module named 'utils'"
     ]
    }
   ],
   "source": [
    "import pickle\n",
    "import os\n",
    "\n",
    "# Visualization related imports\n",
    "import matplotlib.pyplot as plt\n",
    "import networkx as nx\n",
    "import igraph as ig\n",
    "\n",
    "# Main computation libraries\n",
    "import scipy.sparse as sp\n",
    "import numpy as np\n",
    "\n",
    "# Deep learning related imports\n",
    "import torch"
   ]
  },
  {
   "cell_type": "markdown",
   "metadata": {},
   "source": [
    "Definišemo funkcije za učitavanje podataka i funkciju build_edge_index koja pravi jedinstvene parove povezanih čvorova (članaka)."
   ]
  },
  {
   "cell_type": "code",
   "execution_count": null,
   "metadata": {},
   "outputs": [],
   "source": [
    "# function for data loading\n",
    "def pickle_read(path): \n",
    "    with open(path, 'rb') as file:\n",
    "        data = pickle.load(file)\n",
    "\n",
    "    return data"
   ]
  },
  {
   "cell_type": "code",
   "execution_count": null,
   "metadata": {},
   "outputs": [],
   "source": [
    "# the output value is a set of connected nodes represented as unique ordered pairs\n",
    "def build_edge_index(adjacency_list_dict, num_of_nodes, add_self_edges=True):\n",
    "    source_nodes_ids, target_nodes_ids = [], []\n",
    "    seen_edges = set()\n",
    "\n",
    "    for src_node, neighboring_nodes in adjacency_list_dict.items():\n",
    "        for trg_node in neighboring_nodes:\n",
    "\n",
    "            if (src_node, trg_node) not in seen_edges: \n",
    "                source_nodes_ids.append(src_node)\n",
    "                target_nodes_ids.append(trg_node)\n",
    "\n",
    "                seen_edges.add((src_node, trg_node))\n",
    "\n",
    "    if add_self_edges:\n",
    "        source_nodes_ids.extend(np.arange(num_of_nodes))\n",
    "        target_nodes_ids.extend(np.arange(num_of_nodes))\n",
    "\n",
    "\n",
    "    edge_index = np.row_stack((source_nodes_ids, target_nodes_ids))\n",
    "\n",
    "    return edge_index"
   ]
  },
  {
   "cell_type": "markdown",
   "metadata": {},
   "source": [
    "Podaci se učitavaju iz tri fajla. U jednom se nalaze atributi čvorova, u drugom labele čvorova i u trećem je matrica povezanosti čvorova."
   ]
  },
  {
   "cell_type": "code",
   "execution_count": null,
   "metadata": {},
   "outputs": [],
   "source": [
    "data_dir = \"data\"\n",
    "\n",
    "node_features_csr = pickle_read(os.path.join(data_dir, \"node_features.csr\"))\n",
    "node_labels_npy = pickle_read(os.path.join(data_dir, \"node_labels.npy\"))\n",
    "adjacency_list_dict = pickle_read(os.path.join(data_dir, \"adjacency_list.dict\"))\n",
    "\n",
    "num_of_nodes = len(node_labels_npy) # number of nodes"
   ]
  },
  {
   "cell_type": "markdown",
   "metadata": {},
   "source": [
    "Izlaz funkcije build_edge_index predstavlja matricu od 2 vrste: u prvoj vrsti su smešteni početni čvorovi, a u drugoj svi čvorovi sa kojom su oni spojeni. "
   ]
  },
  {
   "cell_type": "code",
   "execution_count": null,
   "metadata": {},
   "outputs": [],
   "source": [
    "topology = build_edge_index(adjacency_list_dict, num_of_nodes, add_self_edges=True) "
   ]
  },
  {
   "cell_type": "code",
   "execution_count": null,
   "metadata": {},
   "outputs": [],
   "source": [
    "topology"
   ]
  },
  {
   "cell_type": "code",
   "execution_count": null,
   "metadata": {},
   "outputs": [],
   "source": [
    "topology.shape "
   ]
  },
  {
   "cell_type": "markdown",
   "metadata": {},
   "source": [
    "Naš graf ima ukupno 13264 ivica među čvorovima."
   ]
  },
  {
   "cell_type": "markdown",
   "metadata": {},
   "source": [
    "Prikazaćemo 2 grafika:\n",
    "- Broj čvorova sa koliko je povezan (linkovan) svaki čvor\n",
    "- Grafik učestalosti broja ivica po čvorovima"
   ]
  },
  {
   "cell_type": "code",
   "execution_count": null,
   "metadata": {},
   "outputs": [],
   "source": [
    "# input values are the number of nodes and set of connected nodes\n",
    "def plot_in_out_degree_distributions(edge_index, num_of_nodes):\n",
    "    \n",
    "    # we have an undirected graph so we only count how many nodes each node is connected to\n",
    "    # for each node we want to keep the number of nodes to which it is connected\n",
    "    edge_degrees = np.zeros(num_of_nodes, dtype=int)\n",
    "    \n",
    "    num_of_edges = edge_index.shape[1] \n",
    "    for cnt in range(num_of_edges):\n",
    "        first_node_id = edge_index[0, cnt] # index of the first node \n",
    "        edge_degrees[first_node_id] += 1  # we increase the number of nodes to which the node is associated with\n",
    "\n",
    "    hist = np.zeros(np.max(edge_degrees)+1) # for each number of edges we count how many nodes there are with that number of edges\n",
    "    for edge_degree in edge_degrees:\n",
    "        hist[edge_degree] += 1\n",
    "\n",
    "    fig = plt.figure(figsize=(12,8), dpi=100)\n",
    "    fig.subplots_adjust(hspace=0.6)\n",
    "\n",
    "    # a graph representing how many nodes each node is connected to\n",
    "    plt.subplot(311)\n",
    "    plt.plot(edge_degrees, color='purple')\n",
    "    plt.xlabel('node id')\n",
    "    plt.ylabel('edge-degree count')\n",
    "    plt.title('Edge degree for different node ids')\n",
    "    \n",
    "    # a graph representing the frequency of the number of edges per node\n",
    "    plt.subplot(312)\n",
    "    plt.plot(hist, color='green')\n",
    "    plt.xlabel('node degree')\n",
    "    plt.ylabel(' nodes for a given degree') \n",
    "    plt.title(f'Node degree distribution for cora dataset')\n",
    "    plt.xticks(np.arange(0, len(hist), 10.0))\n",
    "\n",
    "    plt.grid(True)\n",
    "    plt.show()"
   ]
  },
  {
   "cell_type": "code",
   "execution_count": null,
   "metadata": {},
   "outputs": [],
   "source": [
    "plot_in_out_degree_distributions(topology, num_of_nodes)"
   ]
  },
  {
   "cell_type": "markdown",
   "metadata": {},
   "source": [
    "Iz priloženih grafika zaključujemo da je većina čvorova povezana sa $< 50$ drugih čvorova, dok ih je svega par povezano sa više. Jedan čvor se izdvaja sa $> 150$ linkova, što možemo na prvoj slici povezati sa čvorom koji je najveće veličine."
   ]
  },
  {
   "cell_type": "code",
   "execution_count": null,
   "metadata": {},
   "outputs": [],
   "source": []
  }
 ],
 "metadata": {
  "kernelspec": {
   "display_name": "Python 3 (ipykernel)",
   "language": "python",
   "name": "python3"
  },
  "language_info": {
   "codemirror_mode": {
    "name": "ipython",
    "version": 3
   },
   "file_extension": ".py",
   "mimetype": "text/x-python",
   "name": "python",
   "nbconvert_exporter": "python",
   "pygments_lexer": "ipython3",
   "version": "3.8.5"
  }
 },
 "nbformat": 4,
 "nbformat_minor": 4
}
